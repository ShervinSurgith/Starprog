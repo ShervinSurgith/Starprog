{
 "cells": [
  {
   "cell_type": "code",
   "execution_count": 2,
   "id": "84455972-9906-4e4a-87c5-6c7c5b6583fc",
   "metadata": {},
   "outputs": [
    {
     "name": "stdout",
     "output_type": "stream",
     "text": [
      "                             * \n",
      "                           * * * \n",
      "                         * * * * * \n",
      "                       * * * * * * * \n",
      "      *  *  *  *  * * * * *  *  *  * * * *   *   *   \n",
      "           *  *  *  * * * * *  *  *  * * *   *   \n",
      "                *  *  * * * * *  *  *  * *   \n",
      "                     *  * * * * *  *  *  \n",
      "                  * * * * *      * * * * * \n",
      "                * * * *             * * * * \n",
      "              * * *                    * * * \n",
      "            * *                           * * \n",
      "          *                                  * \n"
     ]
    }
   ],
   "source": [
    "n=4\n",
    "for i in range(n):\n",
    "    print(\"                    \",end=\" \")\n",
    "    for j in range(i,n):\n",
    "        print(\" \",end=\" \")\n",
    "    for k in range(i):\n",
    "        print(\"*\",end=\" \")\n",
    "    for a in range(i+1):\n",
    "        print(\"*\",end=\" \")\n",
    "    print(\"\")\n",
    "for ib in range(n):\n",
    "    print(\" \",end=\"\")\n",
    "    for jb in range(ib+1):\n",
    "        print(\" \",end=\"    \")\n",
    "    for jb in range(ib,n):\n",
    "        print(\"*\",end=\"  \")\n",
    "    for abx in range(n):\n",
    "        print(\"*\",end=\" \")\n",
    "    for axb in range(n-1):\n",
    "        print(\"*\",end=\"  \")\n",
    "    for ija in range(ib,n-1):\n",
    "        print(\"* \",end=\"\")\n",
    "    for bzx in range(ib,3):\n",
    "        print(\"*\",end=\"   \")\n",
    "    print(\"\")\n",
    "for en in range(n+1):\n",
    "    print(\"         \",end=\" \")\n",
    "    for jbl in range(en,n):\n",
    "        print(\"  \",end=\"\")\n",
    "    for ikm in range(en,n+1):\n",
    "        print(\"*\",end=\" \")\n",
    "    for ebse in range(en):\n",
    "        print(\"\",end=\"  \")\n",
    "    for ebse in range(en+1):\n",
    "        print(\" \",end=\"    \")\n",
    "    for cbse in range(en,n+1):\n",
    "        print(\"*\",end=\" \")\n",
    "\n",
    "    print(\"\")"
   ]
  },
  {
   "cell_type": "code",
   "execution_count": null,
   "id": "59742294-8d67-4dc5-96cd-19c982dd8d33",
   "metadata": {},
   "outputs": [],
   "source": []
  }
 ],
 "metadata": {
  "kernelspec": {
   "display_name": "Python 3 (ipykernel)",
   "language": "python",
   "name": "python3"
  },
  "language_info": {
   "codemirror_mode": {
    "name": "ipython",
    "version": 3
   },
   "file_extension": ".py",
   "mimetype": "text/x-python",
   "name": "python",
   "nbconvert_exporter": "python",
   "pygments_lexer": "ipython3",
   "version": "3.9.13"
  }
 },
 "nbformat": 4,
 "nbformat_minor": 5
}
